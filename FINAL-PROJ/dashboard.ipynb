{
 "cells": [
  {
   "cell_type": "code",
   "execution_count": 77,
   "id": "bf9e8117-96e8-45c8-a830-59a1bd48b4bd",
   "metadata": {},
   "outputs": [],
   "source": [
    "#start pandas and find data\n",
    "%matplotlib inline\n",
    "import matplotlib.pyplot as plt\n",
    "import numpy as np\n",
    "import pandas as pd\n",
    "d11 = pd.read_csv('data/filtered2011.csv')\n",
    "d19 = pd.read_csv('data/filtered2019.csv')"
   ]
  },
  {
   "cell_type": "markdown",
   "id": "63559ffd-6039-4461-90df-a057a36181f6",
   "metadata": {},
   "source": [
    "# Electric provider data from 2011 and 2019 across Texas and Montanta"
   ]
  },
  {
   "cell_type": "markdown",
   "id": "abec3e9d-6ced-4280-85dd-adfa05bb7966",
   "metadata": {},
   "source": [
    "## Average Residential Rates (per kwh)\n",
    "### 2011\n",
    "#### Texas"
   ]
  },
  {
   "cell_type": "code",
   "execution_count": 78,
   "id": "47acdb68",
   "metadata": {},
   "outputs": [
    {
     "name": "stdout",
     "output_type": "stream",
     "text": [
      "2011 average price in Texas: 0.09953679417105261\n"
     ]
    }
   ],
   "source": [
    "t11 = d11[d11.state == 'TX'].resrate.mean()\n",
    "print('2011 average price in Texas:', t11)"
   ]
  },
  {
   "cell_type": "markdown",
   "id": "8faabf9c-d7e9-446f-ba56-008dbe45f689",
   "metadata": {},
   "source": [
    "#### Montana"
   ]
  },
  {
   "cell_type": "code",
   "execution_count": 79,
   "id": "2e84fcab-394d-44be-b2e5-7ac402286e2c",
   "metadata": {},
   "outputs": [
    {
     "name": "stdout",
     "output_type": "stream",
     "text": [
      "2011 average price in Montana: 0.07274309763636365\n"
     ]
    }
   ],
   "source": [
    "m11 = d11[d11.state == 'MT'].resrate.mean()\n",
    "print('2011 average price in Montana:', m11)"
   ]
  },
  {
   "cell_type": "markdown",
   "id": "3b6b7c1c-d05d-4abb-90be-12393777958a",
   "metadata": {},
   "source": [
    "### 2019\n",
    "#### Texas"
   ]
  },
  {
   "cell_type": "code",
   "execution_count": 80,
   "id": "fc882a6f-c1c9-4722-b549-1c9bf6858a54",
   "metadata": {},
   "outputs": [
    {
     "name": "stdout",
     "output_type": "stream",
     "text": [
      "2019 average price in Texas: 0.10533926738074713\n"
     ]
    }
   ],
   "source": [
    "t19 = d19[d19.state == 'TX'].resrate.mean()\n",
    "print('2019 average price in Texas:', t19)"
   ]
  },
  {
   "cell_type": "markdown",
   "id": "4982577a-b888-415c-9465-e4c6786efae8",
   "metadata": {},
   "source": [
    "#### Montana"
   ]
  },
  {
   "cell_type": "code",
   "execution_count": 81,
   "id": "be4b8cb3-8403-4e55-896a-1214bdeea372",
   "metadata": {},
   "outputs": [
    {
     "name": "stdout",
     "output_type": "stream",
     "text": [
      "2019 average price in Montana: 0.09008370980357143\n"
     ]
    }
   ],
   "source": [
    "m19 = d19[d19.state == 'MT'].resrate.mean()\n",
    "print('2019 average price in Montana:', m19)"
   ]
  },
  {
   "cell_type": "markdown",
   "id": "562a2800-dc57-4a4d-9400-795558bd47e1",
   "metadata": {},
   "source": [
    "## Graph change in average residential price between 2011 and 2019"
   ]
  },
  {
   "cell_type": "code",
   "execution_count": 82,
   "id": "e6c972dd-54ea-4131-8757-0e9bf0359cfa",
   "metadata": {},
   "outputs": [
    {
     "data": {
      "image/png": "[encoded data removed]",
      "text/plain": [
       "<Figure size 432x288 with 1 Axes>"
      ]
     },
     "metadata": {
      "needs_background": "light"
     },
     "output_type": "display_data"
    }
   ],
   "source": [
    "val2011 = [t11, m11]\n",
    "val2019 = [t19, m19]\n",
    "index = ['texas', 'montana']\n",
    "df = pd.DataFrame({'2011': val2011,'2019': val2019}, index=index)\n",
    "ax = df.plot.bar(rot=0)"
   ]
  }
 ],
 "metadata": {
  "interpreter": {
   "hash": "426d7595bf449288ccae105bfc84625fe27d8f37e8d03e4c43899b578afbfa4e"
  },
  "kernelspec": {
   "display_name": "Python 3",
   "language": "python",
   "name": "python3"
  },
  "language_info": {
   "codemirror_mode": {
    "name": "ipython",
    "version": 3
   },
   "file_extension": ".py",
   "mimetype": "text/x-python",
   "name": "python",
   "nbconvert_exporter": "python",
   "pygments_lexer": "ipython3",
   "version": "3.9.5"
  }
 },
 "nbformat": 4,
 "nbformat_minor": 5
}
